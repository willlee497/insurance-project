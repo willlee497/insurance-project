{
  "nbformat": 4,
  "nbformat_minor": 0,
  "metadata": {
    "colab": {
      "provenance": []
    },
    "kernelspec": {
      "name": "python3",
      "display_name": "Python 3"
    },
    "language_info": {
      "name": "python"
    }
  },
  "cells": [
    {
      "cell_type": "code",
      "execution_count": 4,
      "metadata": {
        "colab": {
          "base_uri": "https://localhost:8080/",
          "height": 35
        },
        "id": "AnB7bouiHz5j",
        "outputId": "4d8b96bb-61a4-4c13-80a6-21b5faff619e"
      },
      "outputs": [
        {
          "output_type": "stream",
          "name": "stdout",
          "text": [
            "✅ Cleaned CSV saved as 'final_cleaned.csv'\n"
          ]
        },
        {
          "output_type": "display_data",
          "data": {
            "text/plain": [
              "<IPython.core.display.Javascript object>"
            ],
            "application/javascript": [
              "\n",
              "    async function download(id, filename, size) {\n",
              "      if (!google.colab.kernel.accessAllowed) {\n",
              "        return;\n",
              "      }\n",
              "      const div = document.createElement('div');\n",
              "      const label = document.createElement('label');\n",
              "      label.textContent = `Downloading \"${filename}\": `;\n",
              "      div.appendChild(label);\n",
              "      const progress = document.createElement('progress');\n",
              "      progress.max = size;\n",
              "      div.appendChild(progress);\n",
              "      document.body.appendChild(div);\n",
              "\n",
              "      const buffers = [];\n",
              "      let downloaded = 0;\n",
              "\n",
              "      const channel = await google.colab.kernel.comms.open(id);\n",
              "      // Send a message to notify the kernel that we're ready.\n",
              "      channel.send({})\n",
              "\n",
              "      for await (const message of channel.messages) {\n",
              "        // Send a message to notify the kernel that we're ready.\n",
              "        channel.send({})\n",
              "        if (message.buffers) {\n",
              "          for (const buffer of message.buffers) {\n",
              "            buffers.push(buffer);\n",
              "            downloaded += buffer.byteLength;\n",
              "            progress.value = downloaded;\n",
              "          }\n",
              "        }\n",
              "      }\n",
              "      const blob = new Blob(buffers, {type: 'application/binary'});\n",
              "      const a = document.createElement('a');\n",
              "      a.href = window.URL.createObjectURL(blob);\n",
              "      a.download = filename;\n",
              "      div.appendChild(a);\n",
              "      a.click();\n",
              "      div.remove();\n",
              "    }\n",
              "  "
            ]
          },
          "metadata": {}
        },
        {
          "output_type": "display_data",
          "data": {
            "text/plain": [
              "<IPython.core.display.Javascript object>"
            ],
            "application/javascript": [
              "download(\"download_5f1e8885-af4e-4c54-9179-8690b9730e22\", \"final_cleaned.csv\", 3476914)"
            ]
          },
          "metadata": {}
        }
      ],
      "source": [
        "import pandas as pd\n",
        "from google.colab import files\n",
        "\n",
        "# Load the raw data\n",
        "df = pd.read_csv(\"data.csv\")\n",
        "\n",
        "# 1. Drop exact duplicate rows\n",
        "df = df.drop_duplicates()\n",
        "\n",
        "# 2. Drop duplicate complaints based on 'File No.'\n",
        "df = df.drop_duplicates(subset=['File No.'], keep='first')\n",
        "\n",
        "# 3. Group rare categories in categorical columns under 'Other'\n",
        "def group_rare_categories(df, threshold=0.02):\n",
        "    \"\"\"\n",
        "    Replaces rare categories (below threshold) in object columns with 'Other'.\n",
        "    \"\"\"\n",
        "    categorical_cols = df.select_dtypes(include=['object']).columns\n",
        "    for col in categorical_cols:\n",
        "        freq = df[col].value_counts(normalize=True)\n",
        "        rare = freq[freq < threshold].index\n",
        "        df[col] = df[col].replace(rare, 'Other')\n",
        "    return df\n",
        "\n",
        "df = group_rare_categories(df)\n",
        "\n",
        "# 4. Convert 'Recovery' to numeric if it's not already\n",
        "df['Recovery'] = pd.to_numeric(df['Recovery'], errors='coerce')\n",
        "\n",
        "# 5. Drop rows that are completely empty (if any)\n",
        "df = df.dropna(how='all')\n",
        "\n",
        "# 6. Save the cleaned DataFrame\n",
        "df.to_csv(\"final_cleaned.csv\", index=False)\n",
        "print(\"✅ Cleaned CSV saved as 'final_cleaned.csv'\")\n",
        "files.download(\"final_cleaned.csv\")"
      ]
    }
  ]
}